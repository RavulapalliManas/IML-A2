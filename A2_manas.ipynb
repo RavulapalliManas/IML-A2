{
 "cells": [
  {
   "cell_type": "code",
   "execution_count": 26,
   "id": "3df5c197",
   "metadata": {},
   "outputs": [],
   "source": [
    "import pandas as pd\n",
    "import numpy as np\n",
    "from sklearn.decomposition import PCA\n",
    "import matplotlib.pyplot as plt\n",
    "import seaborn as sns\n"
   ]
  },
  {
   "cell_type": "code",
   "execution_count": 27,
   "id": "c55cd2c0",
   "metadata": {},
   "outputs": [],
   "source": [
    "df = pd.read_csv('circles.csv')  "
   ]
  },
  {
   "cell_type": "code",
   "execution_count": 28,
   "id": "d9816a3e",
   "metadata": {},
   "outputs": [
    {
     "name": "stdout",
     "output_type": "stream",
     "text": [
      "           x          y  class\n",
      "0    3.15676  116.12252      6\n",
      "1   16.14436   16.81660     11\n",
      "2  100.31212   64.99025     53\n",
      "3   -1.33773   84.81772      4\n",
      "4  104.37328   62.42373     53\n",
      "<class 'pandas.core.frame.DataFrame'>\n",
      "RangeIndex: 10000 entries, 0 to 9999\n",
      "Data columns (total 3 columns):\n",
      " #   Column  Non-Null Count  Dtype  \n",
      "---  ------  --------------  -----  \n",
      " 0   x       10000 non-null  float64\n",
      " 1   y       10000 non-null  float64\n",
      " 2   class   10000 non-null  int64  \n",
      "dtypes: float64(2), int64(1)\n",
      "memory usage: 234.5 KB\n",
      "None\n",
      "                  x             y         class\n",
      "count  10000.000000  10000.000000  10000.000000\n",
      "mean      89.981670     90.003827     49.500000\n",
      "std       57.457467     57.559719     28.867513\n",
      "min       -5.000000     -4.999860      0.000000\n",
      "25%       40.237885     40.133840     24.750000\n",
      "50%       89.999995     90.000080     49.500000\n",
      "75%      139.898800    139.977695     74.250000\n",
      "max      184.999920    185.000000     99.000000\n"
     ]
    },
    {
     "data": {
      "application/vnd.microsoft.datawrangler.viewer.v0+json": {
       "columns": [
        {
         "name": "index",
         "rawType": "int64",
         "type": "integer"
        },
        {
         "name": "x",
         "rawType": "float64",
         "type": "float"
        },
        {
         "name": "y",
         "rawType": "float64",
         "type": "float"
        },
        {
         "name": "class",
         "rawType": "int64",
         "type": "integer"
        }
       ],
       "ref": "2a7c8ad5-f2ad-46f3-8efd-0bd16a88e7fb",
       "rows": [],
       "shape": {
        "columns": 3,
        "rows": 0
       }
      },
      "text/html": [
       "<div>\n",
       "<style scoped>\n",
       "    .dataframe tbody tr th:only-of-type {\n",
       "        vertical-align: middle;\n",
       "    }\n",
       "\n",
       "    .dataframe tbody tr th {\n",
       "        vertical-align: top;\n",
       "    }\n",
       "\n",
       "    .dataframe thead th {\n",
       "        text-align: right;\n",
       "    }\n",
       "</style>\n",
       "<table border=\"1\" class=\"dataframe\">\n",
       "  <thead>\n",
       "    <tr style=\"text-align: right;\">\n",
       "      <th></th>\n",
       "      <th>x</th>\n",
       "      <th>y</th>\n",
       "      <th>class</th>\n",
       "    </tr>\n",
       "  </thead>\n",
       "  <tbody>\n",
       "  </tbody>\n",
       "</table>\n",
       "</div>"
      ],
      "text/plain": [
       "Empty DataFrame\n",
       "Columns: [x, y, class]\n",
       "Index: []"
      ]
     },
     "execution_count": 28,
     "metadata": {},
     "output_type": "execute_result"
    }
   ],
   "source": [
    "#Prelimnary data exploration\n",
    "print(df.head())\n",
    "print(df.info())\n",
    "print(df.describe())\n",
    "df.isnull().sum()  \n",
    "df[df.duplicated(keep=False)]"
   ]
  },
  {
   "cell_type": "code",
   "execution_count": 29,
   "id": "3945347b",
   "metadata": {},
   "outputs": [],
   "source": [
    "#Preprocessing \n",
    "\n",
    "for col in ['x','y']:\n",
    "    mean = df[col].mean()\n",
    "    std = df[col].std()\n",
    "    df[col] = (df[col] - mean) / std"
   ]
  },
  {
   "cell_type": "code",
   "execution_count": 30,
   "id": "3247b36d",
   "metadata": {},
   "outputs": [
    {
     "data": {
      "application/vnd.microsoft.datawrangler.viewer.v0+json": {
       "columns": [
        {
         "name": "index",
         "rawType": "int64",
         "type": "integer"
        },
        {
         "name": "x",
         "rawType": "float64",
         "type": "float"
        },
        {
         "name": "y",
         "rawType": "float64",
         "type": "float"
        },
        {
         "name": "class",
         "rawType": "int64",
         "type": "integer"
        }
       ],
       "ref": "94e19448-a5c2-46fe-8046-3b2fb0f936be",
       "rows": [
        [
         "0",
         "-1.5111162216652114",
         "0.4537668499478613",
         "6"
        ],
        [
         "1",
         "-1.2850777142081518",
         "-1.2715007692912368",
         "11"
        ],
        [
         "2",
         "0.17979299680881822",
         "-0.43456739769005154",
         "53"
        ],
        [
         "3",
         "-1.5893391274661814",
         "-0.09009959594736959",
         "4"
        ],
        [
         "4",
         "0.2504741499814069",
         "-0.4791562182772787",
         "53"
        ]
       ],
       "shape": {
        "columns": 3,
        "rows": 5
       }
      },
      "text/html": [
       "<div>\n",
       "<style scoped>\n",
       "    .dataframe tbody tr th:only-of-type {\n",
       "        vertical-align: middle;\n",
       "    }\n",
       "\n",
       "    .dataframe tbody tr th {\n",
       "        vertical-align: top;\n",
       "    }\n",
       "\n",
       "    .dataframe thead th {\n",
       "        text-align: right;\n",
       "    }\n",
       "</style>\n",
       "<table border=\"1\" class=\"dataframe\">\n",
       "  <thead>\n",
       "    <tr style=\"text-align: right;\">\n",
       "      <th></th>\n",
       "      <th>x</th>\n",
       "      <th>y</th>\n",
       "      <th>class</th>\n",
       "    </tr>\n",
       "  </thead>\n",
       "  <tbody>\n",
       "    <tr>\n",
       "      <th>0</th>\n",
       "      <td>-1.511116</td>\n",
       "      <td>0.453767</td>\n",
       "      <td>6</td>\n",
       "    </tr>\n",
       "    <tr>\n",
       "      <th>1</th>\n",
       "      <td>-1.285078</td>\n",
       "      <td>-1.271501</td>\n",
       "      <td>11</td>\n",
       "    </tr>\n",
       "    <tr>\n",
       "      <th>2</th>\n",
       "      <td>0.179793</td>\n",
       "      <td>-0.434567</td>\n",
       "      <td>53</td>\n",
       "    </tr>\n",
       "    <tr>\n",
       "      <th>3</th>\n",
       "      <td>-1.589339</td>\n",
       "      <td>-0.090100</td>\n",
       "      <td>4</td>\n",
       "    </tr>\n",
       "    <tr>\n",
       "      <th>4</th>\n",
       "      <td>0.250474</td>\n",
       "      <td>-0.479156</td>\n",
       "      <td>53</td>\n",
       "    </tr>\n",
       "  </tbody>\n",
       "</table>\n",
       "</div>"
      ],
      "text/plain": [
       "          x         y  class\n",
       "0 -1.511116  0.453767      6\n",
       "1 -1.285078 -1.271501     11\n",
       "2  0.179793 -0.434567     53\n",
       "3 -1.589339 -0.090100      4\n",
       "4  0.250474 -0.479156     53"
      ]
     },
     "execution_count": 30,
     "metadata": {},
     "output_type": "execute_result"
    }
   ],
   "source": [
    "df.head()"
   ]
  },
  {
   "cell_type": "code",
   "execution_count": null,
   "id": "58e0a6da",
   "metadata": {},
   "outputs": [],
   "source": [
    "#Kmeans Clustering algorithm \n",
    "def euclidean_distance(point, data):\n",
    "    return np.sqrt(np.sum((point - data) ** 2))\n",
    "\n",
    "class KMeans: \n",
    "    #initialize k and max iterations (to prevent infinite loops)\n",
    "    def __init__(self, k, max_iterations=100):\n",
    "        self.k = k\n",
    "        self.max_iterations = max_iterations\n",
    "    \n",
    "    #Main Clustering function\n",
    "    def fit(self,data):\n",
    "        \n",
    "        #initalize k random centroids \n",
    "        min_c, max_c = np.min(data, axis=0), np.max(data, axis=0)\n",
    "        self.centroids = [np.uniform(min_c, max_c) for _ in range(self.k)]\n",
    "            \n",
    "        # Iterate to refine centroids till convergence or max iterations\n",
    "        curr_iter = 0\n",
    "        previous_centroids = None\n",
    "        while previous_centroids is None or np.not_equal(previous_centroids, self.centroids).any() and curr_iter < self.max_iterations:\n",
    "            \n",
    "            #sort points into clusters by computing distances to centroids and choosing smallest distance\n",
    "            sorted_pts = [[] for _ in range(self.k)]\n",
    "            for point in data:\n",
    "                dists  = euclidean_distance(point, self.centroids)\n",
    "                centroid_idx = np.argmin(dists)\n",
    "                sorted_pts[centroid_idx].append(point)\n",
    "            \n",
    "        "
   ]
  }
 ],
 "metadata": {
  "kernelspec": {
   "display_name": "sleap",
   "language": "python",
   "name": "python3"
  },
  "language_info": {
   "codemirror_mode": {
    "name": "ipython",
    "version": 3
   },
   "file_extension": ".py",
   "mimetype": "text/x-python",
   "name": "python",
   "nbconvert_exporter": "python",
   "pygments_lexer": "ipython3",
   "version": "3.9.20"
  }
 },
 "nbformat": 4,
 "nbformat_minor": 5
}
