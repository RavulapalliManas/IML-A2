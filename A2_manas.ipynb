{
 "cells": [
  {
   "cell_type": "code",
   "execution_count": 42,
   "id": "3df5c197",
   "metadata": {},
   "outputs": [],
   "source": [
    "import pandas as pd\n",
    "import numpy as np\n",
    "from sklearn.decomposition import PCA\n",
    "import matplotlib.pyplot as plt\n",
    "import seaborn as sns\n",
    "from tqdm import tqdm\n"
   ]
  },
  {
   "cell_type": "code",
   "execution_count": 43,
   "id": "c55cd2c0",
   "metadata": {},
   "outputs": [],
   "source": [
    "df = pd.read_csv('circles.csv') "
   ]
  },
  {
   "cell_type": "code",
   "execution_count": 44,
   "id": "d9816a3e",
   "metadata": {},
   "outputs": [
    {
     "name": "stdout",
     "output_type": "stream",
     "text": [
      "           x          y  class\n",
      "0    3.15676  116.12252      6\n",
      "1   16.14436   16.81660     11\n",
      "2  100.31212   64.99025     53\n",
      "3   -1.33773   84.81772      4\n",
      "4  104.37328   62.42373     53\n",
      "<class 'pandas.core.frame.DataFrame'>\n",
      "RangeIndex: 10000 entries, 0 to 9999\n",
      "Data columns (total 3 columns):\n",
      " #   Column  Non-Null Count  Dtype  \n",
      "---  ------  --------------  -----  \n",
      " 0   x       10000 non-null  float64\n",
      " 1   y       10000 non-null  float64\n",
      " 2   class   10000 non-null  int64  \n",
      "dtypes: float64(2), int64(1)\n",
      "memory usage: 234.5 KB\n",
      "None\n",
      "                  x             y         class\n",
      "count  10000.000000  10000.000000  10000.000000\n",
      "mean      89.981670     90.003827     49.500000\n",
      "std       57.457467     57.559719     28.867513\n",
      "min       -5.000000     -4.999860      0.000000\n",
      "25%       40.237885     40.133840     24.750000\n",
      "50%       89.999995     90.000080     49.500000\n",
      "75%      139.898800    139.977695     74.250000\n",
      "max      184.999920    185.000000     99.000000\n"
     ]
    },
    {
     "data": {
      "application/vnd.microsoft.datawrangler.viewer.v0+json": {
       "columns": [
        {
         "name": "index",
         "rawType": "int64",
         "type": "integer"
        },
        {
         "name": "x",
         "rawType": "float64",
         "type": "float"
        },
        {
         "name": "y",
         "rawType": "float64",
         "type": "float"
        },
        {
         "name": "class",
         "rawType": "int64",
         "type": "integer"
        }
       ],
       "ref": "a6092aa9-859a-48c7-bd33-731f7275549f",
       "rows": [],
       "shape": {
        "columns": 3,
        "rows": 0
       }
      },
      "text/html": [
       "<div>\n",
       "<style scoped>\n",
       "    .dataframe tbody tr th:only-of-type {\n",
       "        vertical-align: middle;\n",
       "    }\n",
       "\n",
       "    .dataframe tbody tr th {\n",
       "        vertical-align: top;\n",
       "    }\n",
       "\n",
       "    .dataframe thead th {\n",
       "        text-align: right;\n",
       "    }\n",
       "</style>\n",
       "<table border=\"1\" class=\"dataframe\">\n",
       "  <thead>\n",
       "    <tr style=\"text-align: right;\">\n",
       "      <th></th>\n",
       "      <th>x</th>\n",
       "      <th>y</th>\n",
       "      <th>class</th>\n",
       "    </tr>\n",
       "  </thead>\n",
       "  <tbody>\n",
       "  </tbody>\n",
       "</table>\n",
       "</div>"
      ],
      "text/plain": [
       "Empty DataFrame\n",
       "Columns: [x, y, class]\n",
       "Index: []"
      ]
     },
     "execution_count": 44,
     "metadata": {},
     "output_type": "execute_result"
    }
   ],
   "source": [
    "#Prelimnary data exploration\n",
    "print(df.head())\n",
    "print(df.info())\n",
    "print(df.describe())\n",
    "df.isnull().sum()  \n",
    "df[df.duplicated(keep=False)]"
   ]
  },
  {
   "cell_type": "code",
   "execution_count": 45,
   "id": "3945347b",
   "metadata": {},
   "outputs": [],
   "source": [
    "#Preprocessing \n",
    "\n",
    "for col in ['x','y']:\n",
    "    mean = df[col].mean()\n",
    "    std = df[col].std()\n",
    "    df[col] = (df[col] - mean) / std"
   ]
  },
  {
   "cell_type": "code",
   "execution_count": 46,
   "id": "3247b36d",
   "metadata": {},
   "outputs": [
    {
     "data": {
      "application/vnd.microsoft.datawrangler.viewer.v0+json": {
       "columns": [
        {
         "name": "index",
         "rawType": "int64",
         "type": "integer"
        },
        {
         "name": "x",
         "rawType": "float64",
         "type": "float"
        },
        {
         "name": "y",
         "rawType": "float64",
         "type": "float"
        },
        {
         "name": "class",
         "rawType": "int64",
         "type": "integer"
        }
       ],
       "ref": "fab793cf-7fe0-4510-ad98-2d4bc6812002",
       "rows": [
        [
         "0",
         "-1.5111162216652114",
         "0.4537668499478613",
         "6"
        ],
        [
         "1",
         "-1.2850777142081518",
         "-1.2715007692912368",
         "11"
        ],
        [
         "2",
         "0.17979299680881822",
         "-0.43456739769005154",
         "53"
        ],
        [
         "3",
         "-1.5893391274661814",
         "-0.09009959594736959",
         "4"
        ],
        [
         "4",
         "0.2504741499814069",
         "-0.4791562182772787",
         "53"
        ]
       ],
       "shape": {
        "columns": 3,
        "rows": 5
       }
      },
      "text/html": [
       "<div>\n",
       "<style scoped>\n",
       "    .dataframe tbody tr th:only-of-type {\n",
       "        vertical-align: middle;\n",
       "    }\n",
       "\n",
       "    .dataframe tbody tr th {\n",
       "        vertical-align: top;\n",
       "    }\n",
       "\n",
       "    .dataframe thead th {\n",
       "        text-align: right;\n",
       "    }\n",
       "</style>\n",
       "<table border=\"1\" class=\"dataframe\">\n",
       "  <thead>\n",
       "    <tr style=\"text-align: right;\">\n",
       "      <th></th>\n",
       "      <th>x</th>\n",
       "      <th>y</th>\n",
       "      <th>class</th>\n",
       "    </tr>\n",
       "  </thead>\n",
       "  <tbody>\n",
       "    <tr>\n",
       "      <th>0</th>\n",
       "      <td>-1.511116</td>\n",
       "      <td>0.453767</td>\n",
       "      <td>6</td>\n",
       "    </tr>\n",
       "    <tr>\n",
       "      <th>1</th>\n",
       "      <td>-1.285078</td>\n",
       "      <td>-1.271501</td>\n",
       "      <td>11</td>\n",
       "    </tr>\n",
       "    <tr>\n",
       "      <th>2</th>\n",
       "      <td>0.179793</td>\n",
       "      <td>-0.434567</td>\n",
       "      <td>53</td>\n",
       "    </tr>\n",
       "    <tr>\n",
       "      <th>3</th>\n",
       "      <td>-1.589339</td>\n",
       "      <td>-0.090100</td>\n",
       "      <td>4</td>\n",
       "    </tr>\n",
       "    <tr>\n",
       "      <th>4</th>\n",
       "      <td>0.250474</td>\n",
       "      <td>-0.479156</td>\n",
       "      <td>53</td>\n",
       "    </tr>\n",
       "  </tbody>\n",
       "</table>\n",
       "</div>"
      ],
      "text/plain": [
       "          x         y  class\n",
       "0 -1.511116  0.453767      6\n",
       "1 -1.285078 -1.271501     11\n",
       "2  0.179793 -0.434567     53\n",
       "3 -1.589339 -0.090100      4\n",
       "4  0.250474 -0.479156     53"
      ]
     },
     "execution_count": 46,
     "metadata": {},
     "output_type": "execute_result"
    }
   ],
   "source": [
    "df.head()"
   ]
  },
  {
   "cell_type": "code",
   "execution_count": null,
   "id": "58e0a6da",
   "metadata": {},
   "outputs": [],
   "source": [
    "#Kmeans Clustering algorithm \n",
    "def euclidean_distance(point, data):\n",
    "    return np.sqrt(np.sum((point - data) ** 2))\n",
    "\n",
    "class KMeans: \n",
    "    #initialize k and max iterations (to prevent infinite loops)\n",
    "    def __init__(self, k, max_iterations=100):\n",
    "        self.k = k\n",
    "        self.max_iterations = max_iterations\n",
    "    \n",
    "    #Main Clustering function\n",
    "    def fit(self,data):\n",
    "        \n",
    "        #initalize k random centroids \n",
    "        min_c, max_c = np.min(data, axis=0), np.max(data, axis=0)\n",
    "        self.centroids = [np.random.uniform(min_c, max_c) for _ in range(self.k)]\n",
    "            \n",
    "        # Iterate to refine centroids till convergence or max iterations\n",
    "        curr_iter = 0\n",
    "        previous_centroids = None\n",
    "        \n",
    "        pbar = tqdm(total=self.max_iterations, desc=\"Clustering Progress\")\n",
    "        while previous_centroids is None or np.not_equal(previous_centroids, self.centroids).any() and curr_iter < self.max_iterations:\n",
    "            \n",
    "            #sort points into clusters by computing distances to centroids and choosing smallest distance\n",
    "            sorted_pts = [[] for _ in range(self.k)]\n",
    "            for point in data:\n",
    "                dists  = euclidean_distance(point, self.centroids)\n",
    "                centroid_idx = np.argmin(dists)\n",
    "                sorted_pts[centroid_idx].append(point)\n",
    "            \n",
    "            #next step \n",
    "            previous_centroids = self.centroids\n",
    "            self.centroids = [np.mean(cluster, axis=0) for cluster in sorted_pts]\n",
    "            for i, centroid in enumerate(self.centroids):\n",
    "                if np.isnan(centroid).any():  \n",
    "                    self.centroids[i] = previous_centroids[i]\n",
    "            curr_iter += 1\n",
    "            pbar.update(1)\n",
    "        pbar.close()\n",
    "\n",
    "    def silhouette_score(self, data):\n",
    "        # Assign points to clusters\n",
    "        labels = []\n",
    "        for point in data:\n",
    "            dists = euclidean_distance(point, self.centroids)\n",
    "            centroid_idx = np.argmin(dists)\n",
    "            labels.append(centroid_idx)\n",
    "        \n",
    "        labels = np.array(labels)\n",
    "        silhouette_scores = []\n",
    "        \n",
    "        for i, point in tqdm(enumerate(data), total=len(data), desc=\"Silhouette Score Progress\"):\n",
    "            # Points in same cluster\n",
    "            same_cluster_mask = labels == labels[i]\n",
    "            same_cluster_points = data[same_cluster_mask]\n",
    "            \n",
    "            # Calculate a: mean distance to points in same cluster\n",
    "            if len(same_cluster_points) > 1:\n",
    "                a = np.mean([euclidean_distance(point, p) for p in same_cluster_points if not np.array_equal(p, point)])\n",
    "            else:\n",
    "                a = 0\n",
    "            \n",
    "            # Calculate b: minimum mean distance to points in other clusters\n",
    "            b = np.inf\n",
    "            for cluster_idx in range(self.k):\n",
    "                if cluster_idx != labels[i]:\n",
    "                    other_cluster_mask = labels == cluster_idx\n",
    "                    other_cluster_points = data[other_cluster_mask]\n",
    "                    if len(other_cluster_points) > 0:\n",
    "                        mean_dist = np.mean([euclidean_distance(point, p) for p in other_cluster_points])\n",
    "                        b = min(b, mean_dist)\n",
    "            \n",
    "            # Calculate silhouette score for this point\n",
    "            if max(a, b) > 0:\n",
    "                silhouette_scores.append((b - a) / max(a, b))\n",
    "            else:\n",
    "                silhouette_scores.append(0)\n",
    "        \n",
    "        return np.mean(silhouette_scores)"
   ]
  },
  {
   "cell_type": "code",
   "execution_count": 50,
   "id": "644f4d4e",
   "metadata": {},
   "outputs": [
    {
     "name": "stderr",
     "output_type": "stream",
     "text": [
      "KMeans Clustering Progress:  15%|█▌        | 15/100 [00:02<00:16,  5.16it/s]\n",
      "\n",
      "Computing Silhouette Score: 100%|██████████| 10000/10000 [04:56<00:00, 33.68it/s]"
     ]
    },
    {
     "name": "stdout",
     "output_type": "stream",
     "text": [
      "Silhouette Score: 0.5422146885220662\n"
     ]
    },
    {
     "name": "stderr",
     "output_type": "stream",
     "text": [
      "\n"
     ]
    }
   ],
   "source": [
    "X = df[['x','y']].values \n",
    "kmeans = KMeans(k=100, max_iterations=100)\n",
    "kmeans.fit(X)\n",
    "score = kmeans.silhouette_score(df[['x','y']].values)\n",
    "print(f'Silhouette Score: {score}')\n",
    "\n"
   ]
  },
  {
   "cell_type": "code",
   "execution_count": 51,
   "id": "e0a865e0",
   "metadata": {},
   "outputs": [
    {
     "name": "stdout",
     "output_type": "stream",
     "text": [
      "Sklearn KMeans Silhouette Score: 0.6000\n"
     ]
    }
   ],
   "source": [
    "from sklearn.cluster import KMeans as SKKMeans\n",
    "from sklearn.metrics import silhouette_score\n",
    "# X = your feature array, shape (n_points, 2)\n",
    "k = 100  # same as your custom KMeans\n",
    "\n",
    "sk_kmeans = SKKMeans(n_clusters=k, init='k-means++', n_init=10, max_iter=300, random_state=0)\n",
    "sk_kmeans.fit(X)\n",
    "\n",
    "# Get cluster labels\n",
    "labels_sk = sk_kmeans.labels_\n",
    "S_sk = silhouette_score(X, labels_sk)\n",
    "print(f\"Sklearn KMeans Silhouette Score: {S_sk:.4f}\")\n"
   ]
  }
 ],
 "metadata": {
  "kernelspec": {
   "display_name": "sleap",
   "language": "python",
   "name": "python3"
  },
  "language_info": {
   "codemirror_mode": {
    "name": "ipython",
    "version": 3
   },
   "file_extension": ".py",
   "mimetype": "text/x-python",
   "name": "python",
   "nbconvert_exporter": "python",
   "pygments_lexer": "ipython3",
   "version": "3.9.20"
  }
 },
 "nbformat": 4,
 "nbformat_minor": 5
}
